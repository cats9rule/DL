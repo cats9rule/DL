{
  "cells": [
    {
      "cell_type": "code",
      "execution_count": 104,
      "metadata": {
        "id": "_zTWC3B7q4hc"
      },
      "outputs": [],
      "source": [
        "dataset_emotion = \"emotions-dataset-for-nlp\""
      ]
    },
    {
      "attachments": {},
      "cell_type": "markdown",
      "metadata": {
        "id": "8lJZaw7rmLVq"
      },
      "source": [
        "#Import Packages:"
      ]
    },
    {
      "cell_type": "code",
      "execution_count": 105,
      "metadata": {
        "id": "fXlUC8nS2Jhk"
      },
      "outputs": [],
      "source": [
        "import pandas as pd\n",
        "import os\n",
        "import numpy as np\n",
        "import tensorflow as tf\n",
        "import keras\n",
        "import nltk\n",
        "import string\n",
        "from tensorflow.keras.preprocessing.text import Tokenizer\n",
        "from tensorflow.keras.preprocessing.sequence import pad_sequences\n",
        "from tensorflow.keras.layers import Input, Embedding, LSTM ,Conv2D, Dense,GlobalAveragePooling1D,Flatten, Dropout , GRU, TimeDistributed, Conv1D, MaxPool1D, MaxPool2D\n",
        "from tensorflow.keras.models import Sequential\n",
        "import matplotlib.pyplot as plt\n",
        "from sklearn.preprocessing import LabelEncoder\n",
        "from tensorflow.keras.utils import to_categorical\n",
        "from sklearn.model_selection import train_test_split\n",
        "from keras.callbacks import EarlyStopping\n",
        "import matplotlib as mpl"
      ]
    },
    {
      "attachments": {},
      "cell_type": "markdown",
      "metadata": {
        "id": "Ti78Jl77mOSQ"
      },
      "source": [
        "#First Step:\n",
        "building a recurrent neural network capable of analyzing emotions, using a dataset that includes a number of emotions."
      ]
    },
    {
      "cell_type": "code",
      "execution_count": 106,
      "metadata": {
        "colab": {
          "base_uri": "https://localhost:8080/"
        },
        "id": "QTldoyaQ5-xc",
        "outputId": "0ce16bb5-0522-4d30-fc08-4b929b1df4ce"
      },
      "outputs": [
        {
          "name": "stderr",
          "output_type": "stream",
          "text": [
            "[nltk_data] Downloading package stopwords to\n",
            "[nltk_data]     C:\\Users\\Nevena\\AppData\\Roaming\\nltk_data...\n",
            "[nltk_data]   Package stopwords is already up-to-date!\n"
          ]
        }
      ],
      "source": [
        "from nltk.stem.porter import PorterStemmer\n",
        "from nltk.corpus import stopwords\n",
        "nltk.download('stopwords')\n",
        "porter = PorterStemmer()\n",
        "stop_words = stopwords.words('english')"
      ]
    },
    {
      "cell_type": "code",
      "execution_count": 107,
      "metadata": {
        "id": "-hCaKP731THK"
      },
      "outputs": [],
      "source": [
        "from tensorflow.keras.layers import Bidirectional\n",
        "from tensorflow.compat.v1.keras.layers import CuDNNLSTM\n",
        "\n",
        "class Emotion:\n",
        "  def __init__(self, datasetFolder, batch_size, validation_split, optimizer, loss, epochs):\n",
        "    self.datasetFolder = datasetFolder\n",
        "    self.batch_size = batch_size\n",
        "    self.validation_split = validation_split\n",
        "    self.optimizer = optimizer\n",
        "    self.loss = loss\n",
        "    self.epochs = epochs\n",
        "  def readDatasetCSV(self):\n",
        "    trainDataset = pd.read_csv(os.path.join(self.datasetFolder, \"train.txt\"), names=['Text', 'Emotion'], sep=';')\n",
        "    testDataset = pd.read_csv(os.path.join(self.datasetFolder, \"test.txt\"), names=['Text', 'Emotion'], sep=';')\n",
        "    validDataset = pd.read_csv(os.path.join(self.datasetFolder, \"val.txt\"), names=['Text', 'Emotion'], sep=';')\n",
        "    list_dataset = [trainDataset, testDataset, validDataset]\n",
        "    self.dataset = pd.concat(list_dataset)\n",
        "  def FeaturesLables(self):\n",
        "    self.features = self.dataset['Text']\n",
        "    self.labels = self.dataset['Emotion']  \n",
        "  def splitDataset(self):\n",
        "    self.X_train, self.X_test, self.Y_train, self.Y_test = train_test_split(self.features,\n",
        "                                                                            self.labels, \n",
        "                                                                            test_size = self.validation_split)\n",
        "  def CleanFeatures(self):\n",
        "    self.features = self.features.apply(lambda sequence:\n",
        "                                              [ltrs.lower() for ltrs in sequence if ltrs not in string.punctuation])\n",
        "    self.features = self.features.apply(lambda wrd: ''.join(wrd))\n",
        "  def tokenizerDataset(self):\n",
        "    self.tokenizer = Tokenizer(num_words=5000)\n",
        "    self.tokenizer.fit_on_texts(self.features)\n",
        "    train = self.tokenizer.texts_to_sequences(self.features)\n",
        "    self.features = pad_sequences(train)\n",
        "    le = LabelEncoder()\n",
        "    self.labels = le.fit_transform(self.labels)\n",
        "    self.vocabulary = len(self.tokenizer.word_index)\n",
        "  def label_categorical(self):\n",
        "    self.labels = to_categorical(self.labels, 6)\n",
        "  def glove_word_embedding(self, file_name):\n",
        "    self.embeddings_index = {}\n",
        "    file_ = open(file_name, encoding='utf-8')\n",
        "    for line in file_:\n",
        "        arr = line.split()\n",
        "        single_word = arr[0]\n",
        "        w = np.asarray(arr[1:],dtype='float32')\n",
        "        self.embeddings_index[single_word] = w\n",
        "    file_.close()\n",
        "    max_words = self.vocabulary + 1\n",
        "    word_index = self.tokenizer.word_index\n",
        "    self.embedding_matrix = np.zeros((max_words,300)).astype(object)\n",
        "    for word , i in word_index.items():\n",
        "            embedding_vector = self.embeddings_index.get(word)\n",
        "            if embedding_vector is not None:\n",
        "                self.embedding_matrix[i] = embedding_vector  \n",
        "  def model(self):\n",
        "    m = Sequential()\n",
        "    m.add(Input(shape=(self.features.shape[1], )))\n",
        "    m.add(Embedding(self.vocabulary + 1,300))\n",
        "    # m.add(GRU(128, recurrent_dropout=0.3, return_sequences=False, activity_regularizer = tf.keras.regularizers.L2(0.0001)))\n",
        "    m.add(Dropout(0.2))\n",
        "    m.add(Bidirectional(CuDNNLSTM(100,return_sequences=True)))\n",
        "    m.add(Dropout(0.2))\n",
        "    m.add(Bidirectional(CuDNNLSTM(200,return_sequences=True)))\n",
        "    m.add(Dropout(0.2))\n",
        "    m.add(Bidirectional(CuDNNLSTM(100,return_sequences=False)))\n",
        "    m.add(Dense(6, activation=\"softmax\", activity_regularizer = tf.keras.regularizers.L2(0.0001)))\n",
        "    self.m = m\n",
        "  def compiler(self):\n",
        "    self.m.compile(loss= self.loss,optimizer=self.optimizer,metrics=['accuracy'])\n",
        "  def fit(self):\n",
        "    earlyStopping = EarlyStopping(monitor = 'loss', patience = 20, mode = 'min', restore_best_weights = True)\n",
        "    self.history_training = self.m.fit(self.X_train, self.Y_train, epochs= self.epochs,batch_size = self.batch_size,\n",
        "                                       callbacks=[ earlyStopping])      "
      ]
    },
    {
      "cell_type": "code",
      "execution_count": 108,
      "metadata": {
        "id": "7lx7E5vh4JJj"
      },
      "outputs": [],
      "source": [
        "emotion = Emotion(dataset_emotion, 256, 0.1, 'adam', 'categorical_crossentropy', 120)"
      ]
    },
    {
      "cell_type": "code",
      "execution_count": 109,
      "metadata": {
        "id": "VbeS33eK4ZGo"
      },
      "outputs": [],
      "source": [
        "emotion.readDatasetCSV()"
      ]
    },
    {
      "cell_type": "code",
      "execution_count": 110,
      "metadata": {
        "colab": {
          "base_uri": "https://localhost:8080/",
          "height": 206
        },
        "id": "6LOwhoJd5G_y",
        "outputId": "f6e585c5-b1c4-4eae-c762-0801ddd422ef"
      },
      "outputs": [
        {
          "data": {
            "text/html": [
              "<div>\n",
              "<style scoped>\n",
              "    .dataframe tbody tr th:only-of-type {\n",
              "        vertical-align: middle;\n",
              "    }\n",
              "\n",
              "    .dataframe tbody tr th {\n",
              "        vertical-align: top;\n",
              "    }\n",
              "\n",
              "    .dataframe thead th {\n",
              "        text-align: right;\n",
              "    }\n",
              "</style>\n",
              "<table border=\"1\" class=\"dataframe\">\n",
              "  <thead>\n",
              "    <tr style=\"text-align: right;\">\n",
              "      <th></th>\n",
              "      <th>Text</th>\n",
              "      <th>Emotion</th>\n",
              "    </tr>\n",
              "  </thead>\n",
              "  <tbody>\n",
              "    <tr>\n",
              "      <th>0</th>\n",
              "      <td>i didnt feel humiliated</td>\n",
              "      <td>sadness</td>\n",
              "    </tr>\n",
              "    <tr>\n",
              "      <th>1</th>\n",
              "      <td>i can go from feeling so hopeless to so damned...</td>\n",
              "      <td>sadness</td>\n",
              "    </tr>\n",
              "    <tr>\n",
              "      <th>2</th>\n",
              "      <td>im grabbing a minute to post i feel greedy wrong</td>\n",
              "      <td>anger</td>\n",
              "    </tr>\n",
              "    <tr>\n",
              "      <th>3</th>\n",
              "      <td>i am ever feeling nostalgic about the fireplac...</td>\n",
              "      <td>love</td>\n",
              "    </tr>\n",
              "    <tr>\n",
              "      <th>4</th>\n",
              "      <td>i am feeling grouchy</td>\n",
              "      <td>anger</td>\n",
              "    </tr>\n",
              "  </tbody>\n",
              "</table>\n",
              "</div>"
            ],
            "text/plain": [
              "                                                Text  Emotion\n",
              "0                            i didnt feel humiliated  sadness\n",
              "1  i can go from feeling so hopeless to so damned...  sadness\n",
              "2   im grabbing a minute to post i feel greedy wrong    anger\n",
              "3  i am ever feeling nostalgic about the fireplac...     love\n",
              "4                               i am feeling grouchy    anger"
            ]
          },
          "execution_count": 110,
          "metadata": {},
          "output_type": "execute_result"
        }
      ],
      "source": [
        "emotion.dataset.head()"
      ]
    },
    {
      "cell_type": "code",
      "execution_count": 111,
      "metadata": {
        "id": "eiXNZHgv68U5"
      },
      "outputs": [],
      "source": [
        "emotion.FeaturesLables()"
      ]
    },
    {
      "cell_type": "code",
      "execution_count": 112,
      "metadata": {
        "id": "Vwzhdol861C8"
      },
      "outputs": [],
      "source": [
        "emotion.CleanFeatures()"
      ]
    },
    {
      "cell_type": "code",
      "execution_count": 113,
      "metadata": {
        "colab": {
          "base_uri": "https://localhost:8080/"
        },
        "id": "8W8kXcdj7D3V",
        "outputId": "a4a64f5b-bf51-4f67-c950-e1277ec4c420"
      },
      "outputs": [
        {
          "data": {
            "text/plain": [
              "0                              i didnt feel humiliated\n",
              "1    i can go from feeling so hopeless to so damned...\n",
              "2     im grabbing a minute to post i feel greedy wrong\n",
              "3    i am ever feeling nostalgic about the fireplac...\n",
              "4                                 i am feeling grouchy\n",
              "Name: Text, dtype: object"
            ]
          },
          "execution_count": 113,
          "metadata": {},
          "output_type": "execute_result"
        }
      ],
      "source": [
        "emotion.features.head()"
      ]
    },
    {
      "cell_type": "code",
      "execution_count": 114,
      "metadata": {
        "colab": {
          "base_uri": "https://localhost:8080/"
        },
        "id": "jboiwLYR-BH5",
        "outputId": "d5af60f6-2b8d-44b5-f1f7-14c996b54fbe"
      },
      "outputs": [
        {
          "data": {
            "text/plain": [
              "array(['sadness', 'anger', 'love', 'surprise', 'fear', 'joy'],\n",
              "      dtype=object)"
            ]
          },
          "execution_count": 114,
          "metadata": {},
          "output_type": "execute_result"
        }
      ],
      "source": [
        "emotion.labels.unique()"
      ]
    },
    {
      "cell_type": "code",
      "execution_count": 115,
      "metadata": {
        "id": "YjnxHLx27LzC"
      },
      "outputs": [],
      "source": [
        "emotion.tokenizerDataset()"
      ]
    },
    {
      "cell_type": "code",
      "execution_count": 116,
      "metadata": {
        "colab": {
          "base_uri": "https://localhost:8080/"
        },
        "id": "QadS6V1r7Nzy",
        "outputId": "3d925112-0091-4f8a-8fe5-82dbcf05c66b"
      },
      "outputs": [
        {
          "data": {
            "text/plain": [
              "array([[   0,    0,    0, ...,  138,    2,  625],\n",
              "       [   0,    0,    0, ...,    3,   21, 1383],\n",
              "       [   0,    0,    0, ...,    2,  495,  420],\n",
              "       ...,\n",
              "       [   0,    0,    0, ...,    5,  215,  191],\n",
              "       [   0,    0,    0, ...,   30,   57, 2181],\n",
              "       [   0,    0,    0, ...,   75,    5,   70]])"
            ]
          },
          "execution_count": 116,
          "metadata": {},
          "output_type": "execute_result"
        }
      ],
      "source": [
        "emotion.features"
      ]
    },
    {
      "cell_type": "code",
      "execution_count": 117,
      "metadata": {
        "colab": {
          "base_uri": "https://localhost:8080/"
        },
        "id": "Fkl08uAy7Svb",
        "outputId": "dbf4de3f-076c-4d82-a5be-cd703ddd2a15"
      },
      "outputs": [
        {
          "data": {
            "text/plain": [
              "array([4, 4, 0, ..., 2, 2, 2])"
            ]
          },
          "execution_count": 117,
          "metadata": {},
          "output_type": "execute_result"
        }
      ],
      "source": [
        "emotion.labels"
      ]
    },
    {
      "cell_type": "code",
      "execution_count": 118,
      "metadata": {
        "colab": {
          "base_uri": "https://localhost:8080/"
        },
        "id": "hNC3L4Ww7VGh",
        "outputId": "a98b7a8e-fb4c-4026-b277-9e732e426fd8"
      },
      "outputs": [
        {
          "data": {
            "text/plain": [
              "(20000, 63)"
            ]
          },
          "execution_count": 118,
          "metadata": {},
          "output_type": "execute_result"
        }
      ],
      "source": [
        "emotion.features.shape"
      ]
    },
    {
      "cell_type": "code",
      "execution_count": 119,
      "metadata": {
        "colab": {
          "base_uri": "https://localhost:8080/"
        },
        "id": "MTYzKXMq7pWE",
        "outputId": "689e81db-a764-4a00-f6fc-25a7d9611a94"
      },
      "outputs": [
        {
          "data": {
            "text/plain": [
              "(20000, 63)"
            ]
          },
          "execution_count": 119,
          "metadata": {},
          "output_type": "execute_result"
        }
      ],
      "source": [
        "emotion.features.shape"
      ]
    },
    {
      "cell_type": "code",
      "execution_count": 120,
      "metadata": {
        "id": "x6ZH_xy5-v8D"
      },
      "outputs": [],
      "source": [
        "emotion.label_categorical()"
      ]
    },
    {
      "cell_type": "code",
      "execution_count": 121,
      "metadata": {
        "colab": {
          "base_uri": "https://localhost:8080/"
        },
        "id": "mL6csMqQ_H56",
        "outputId": "d0aca25f-3e98-4afa-e472-df13618c47f6"
      },
      "outputs": [
        {
          "data": {
            "text/plain": [
              "array([[0., 0., 0., 0., 1., 0.],\n",
              "       [0., 0., 0., 0., 1., 0.],\n",
              "       [1., 0., 0., 0., 0., 0.],\n",
              "       ...,\n",
              "       [0., 0., 1., 0., 0., 0.],\n",
              "       [0., 0., 1., 0., 0., 0.],\n",
              "       [0., 0., 1., 0., 0., 0.]], dtype=float32)"
            ]
          },
          "execution_count": 121,
          "metadata": {},
          "output_type": "execute_result"
        }
      ],
      "source": [
        "emotion.labels"
      ]
    },
    {
      "cell_type": "code",
      "execution_count": 122,
      "metadata": {
        "id": "FGG0v5kgzhJ3"
      },
      "outputs": [],
      "source": [
        "emotion.splitDataset()"
      ]
    },
    {
      "cell_type": "code",
      "execution_count": 123,
      "metadata": {
        "id": "ZYo7knqATXgE"
      },
      "outputs": [],
      "source": [
        "emotion.glove_word_embedding(\"glove.6B.300d.txt\")"
      ]
    },
    {
      "cell_type": "code",
      "execution_count": 124,
      "metadata": {
        "colab": {
          "base_uri": "https://localhost:8080/"
        },
        "id": "ooT0Ia3Lror9",
        "outputId": "0a2ce248-e0ec-4a5e-b975-c61bd092c948"
      },
      "outputs": [],
      "source": [
        "emotion.model()\n"
      ]
    },
    {
      "cell_type": "code",
      "execution_count": 125,
      "metadata": {
        "id": "l0GVniwDTfOi"
      },
      "outputs": [],
      "source": [
        "emotion.compiler()"
      ]
    },
    {
      "cell_type": "code",
      "execution_count": 126,
      "metadata": {
        "colab": {
          "base_uri": "https://localhost:8080/"
        },
        "id": "IktgYRNWBdd6",
        "outputId": "7d0e0696-1bb5-4cf5-8a51-19d0e2390529"
      },
      "outputs": [
        {
          "name": "stdout",
          "output_type": "stream",
          "text": [
            "Model: \"sequential_1\"\n",
            "_________________________________________________________________\n",
            " Layer (type)                Output Shape              Param #   \n",
            "=================================================================\n",
            " embedding_1 (Embedding)     (None, 63, 300)           5129100   \n",
            "                                                                 \n",
            " dropout (Dropout)           (None, 63, 300)           0         \n",
            "                                                                 \n",
            " bidirectional (Bidirectiona  (None, 63, 200)          321600    \n",
            " l)                                                              \n",
            "                                                                 \n",
            " dropout_1 (Dropout)         (None, 63, 200)           0         \n",
            "                                                                 \n",
            " bidirectional_1 (Bidirectio  (None, 63, 400)          643200    \n",
            " nal)                                                            \n",
            "                                                                 \n",
            " dropout_2 (Dropout)         (None, 63, 400)           0         \n",
            "                                                                 \n",
            " bidirectional_2 (Bidirectio  (None, 200)              401600    \n",
            " nal)                                                            \n",
            "                                                                 \n",
            " dense_1 (Dense)             (None, 6)                 1206      \n",
            "                                                                 \n",
            "=================================================================\n",
            "Total params: 6,496,706\n",
            "Trainable params: 1,367,606\n",
            "Non-trainable params: 5,129,100\n",
            "_________________________________________________________________\n"
          ]
        }
      ],
      "source": [
        "emotion.m.summary()"
      ]
    },
    {
      "cell_type": "code",
      "execution_count": 127,
      "metadata": {
        "colab": {
          "base_uri": "https://localhost:8080/"
        },
        "id": "PHpg5OqJBpqQ",
        "outputId": "e1355567-ebb8-4fe2-9d27-8b63787981bb"
      },
      "outputs": [
        {
          "name": "stdout",
          "output_type": "stream",
          "text": [
            "Epoch 1/120\n"
          ]
        },
        {
          "name": "stdout",
          "output_type": "stream",
          "text": [
            "71/71 [==============================] - 13s 133ms/step - loss: 1.3563 - accuracy: 0.4763\n",
            "Epoch 2/120\n",
            "71/71 [==============================] - 9s 133ms/step - loss: 0.8298 - accuracy: 0.7071\n",
            "Epoch 3/120\n",
            "71/71 [==============================] - 9s 133ms/step - loss: 0.5264 - accuracy: 0.8129\n",
            "Epoch 4/120\n",
            "71/71 [==============================] - 9s 132ms/step - loss: 0.3679 - accuracy: 0.8648\n",
            "Epoch 5/120\n",
            "71/71 [==============================] - 9s 133ms/step - loss: 0.2990 - accuracy: 0.8874\n",
            "Epoch 6/120\n",
            "71/71 [==============================] - 9s 132ms/step - loss: 0.2339 - accuracy: 0.9069\n",
            "Epoch 7/120\n",
            "71/71 [==============================] - 9s 132ms/step - loss: 0.2021 - accuracy: 0.9171\n",
            "Epoch 8/120\n",
            "71/71 [==============================] - 9s 132ms/step - loss: 0.1750 - accuracy: 0.9248\n",
            "Epoch 9/120\n",
            "71/71 [==============================] - 9s 133ms/step - loss: 0.1611 - accuracy: 0.9286\n",
            "Epoch 10/120\n",
            "71/71 [==============================] - 9s 134ms/step - loss: 0.1487 - accuracy: 0.9316\n",
            "Epoch 11/120\n",
            "71/71 [==============================] - 9s 133ms/step - loss: 0.1382 - accuracy: 0.9357\n",
            "Epoch 12/120\n",
            "71/71 [==============================] - 9s 130ms/step - loss: 0.1169 - accuracy: 0.9456\n",
            "Epoch 13/120\n",
            "71/71 [==============================] - 9s 133ms/step - loss: 0.1197 - accuracy: 0.9427\n",
            "Epoch 14/120\n",
            "71/71 [==============================] - 9s 133ms/step - loss: 0.1111 - accuracy: 0.9457\n",
            "Epoch 15/120\n",
            "71/71 [==============================] - 9s 132ms/step - loss: 0.1026 - accuracy: 0.9487\n",
            "Epoch 16/120\n",
            "71/71 [==============================] - 9s 129ms/step - loss: 0.0987 - accuracy: 0.9534\n",
            "Epoch 17/120\n",
            "71/71 [==============================] - 9s 130ms/step - loss: 0.0993 - accuracy: 0.9531\n",
            "Epoch 18/120\n",
            "71/71 [==============================] - 9s 134ms/step - loss: 0.0982 - accuracy: 0.9538\n",
            "Epoch 19/120\n",
            "71/71 [==============================] - 10s 137ms/step - loss: 0.0950 - accuracy: 0.9523\n",
            "Epoch 20/120\n",
            "71/71 [==============================] - 10s 134ms/step - loss: 0.0865 - accuracy: 0.9573\n",
            "Epoch 21/120\n",
            "71/71 [==============================] - 9s 134ms/step - loss: 0.0841 - accuracy: 0.9604\n",
            "Epoch 22/120\n",
            "71/71 [==============================] - 10s 136ms/step - loss: 0.0825 - accuracy: 0.9595\n",
            "Epoch 23/120\n",
            "71/71 [==============================] - 10s 134ms/step - loss: 0.0789 - accuracy: 0.9621\n",
            "Epoch 24/120\n",
            "71/71 [==============================] - 7s 94ms/step - loss: 0.0771 - accuracy: 0.9638\n",
            "Epoch 25/120\n",
            "71/71 [==============================] - 10s 137ms/step - loss: 0.0738 - accuracy: 0.9647\n",
            "Epoch 26/120\n",
            "71/71 [==============================] - 10s 136ms/step - loss: 0.0680 - accuracy: 0.9682\n",
            "Epoch 27/120\n",
            "71/71 [==============================] - 10s 135ms/step - loss: 0.0678 - accuracy: 0.9690\n",
            "Epoch 28/120\n",
            "71/71 [==============================] - 10s 136ms/step - loss: 0.0667 - accuracy: 0.9706\n",
            "Epoch 29/120\n",
            "71/71 [==============================] - 10s 136ms/step - loss: 0.0634 - accuracy: 0.9713\n",
            "Epoch 30/120\n",
            "71/71 [==============================] - 10s 135ms/step - loss: 0.0618 - accuracy: 0.9723\n",
            "Epoch 31/120\n",
            "71/71 [==============================] - 9s 132ms/step - loss: 0.0593 - accuracy: 0.9742\n",
            "Epoch 32/120\n",
            "71/71 [==============================] - 9s 131ms/step - loss: 0.0590 - accuracy: 0.9747\n",
            "Epoch 33/120\n",
            "71/71 [==============================] - 9s 134ms/step - loss: 0.0567 - accuracy: 0.9744\n",
            "Epoch 34/120\n",
            "71/71 [==============================] - 10s 136ms/step - loss: 0.0511 - accuracy: 0.9792\n",
            "Epoch 35/120\n",
            "71/71 [==============================] - 10s 135ms/step - loss: 0.0476 - accuracy: 0.9783\n",
            "Epoch 36/120\n",
            "71/71 [==============================] - 10s 134ms/step - loss: 0.0456 - accuracy: 0.9804\n",
            "Epoch 37/120\n",
            "71/71 [==============================] - 9s 134ms/step - loss: 0.0427 - accuracy: 0.9816\n",
            "Epoch 38/120\n",
            "71/71 [==============================] - 10s 135ms/step - loss: 0.0437 - accuracy: 0.9812\n",
            "Epoch 39/120\n",
            "71/71 [==============================] - 10s 136ms/step - loss: 0.0464 - accuracy: 0.9799\n",
            "Epoch 40/120\n",
            "71/71 [==============================] - 9s 134ms/step - loss: 0.0450 - accuracy: 0.9811\n",
            "Epoch 41/120\n",
            "71/71 [==============================] - 10s 138ms/step - loss: 0.0470 - accuracy: 0.9808\n",
            "Epoch 42/120\n",
            "71/71 [==============================] - 10s 134ms/step - loss: 0.0350 - accuracy: 0.9851\n",
            "Epoch 43/120\n",
            "71/71 [==============================] - 10s 136ms/step - loss: 0.0297 - accuracy: 0.9879\n",
            "Epoch 44/120\n",
            "71/71 [==============================] - 10s 137ms/step - loss: 0.0318 - accuracy: 0.9874\n",
            "Epoch 45/120\n",
            "71/71 [==============================] - 10s 136ms/step - loss: 0.0319 - accuracy: 0.9874\n",
            "Epoch 46/120\n",
            "71/71 [==============================] - 10s 136ms/step - loss: 0.0362 - accuracy: 0.9851\n",
            "Epoch 47/120\n",
            "71/71 [==============================] - 10s 136ms/step - loss: 0.0272 - accuracy: 0.9889\n",
            "Epoch 48/120\n",
            "71/71 [==============================] - 10s 136ms/step - loss: 0.0293 - accuracy: 0.9882\n",
            "Epoch 49/120\n",
            "71/71 [==============================] - 10s 136ms/step - loss: 0.0318 - accuracy: 0.9873\n",
            "Epoch 50/120\n",
            "71/71 [==============================] - 10s 136ms/step - loss: 0.0329 - accuracy: 0.9874\n",
            "Epoch 51/120\n",
            "71/71 [==============================] - 10s 137ms/step - loss: 0.0253 - accuracy: 0.9908\n",
            "Epoch 52/120\n",
            "71/71 [==============================] - 9s 132ms/step - loss: 0.0244 - accuracy: 0.9910\n",
            "Epoch 53/120\n",
            "71/71 [==============================] - 10s 136ms/step - loss: 0.0254 - accuracy: 0.9899\n",
            "Epoch 54/120\n",
            "71/71 [==============================] - 10s 137ms/step - loss: 0.0277 - accuracy: 0.9897\n",
            "Epoch 55/120\n",
            "71/71 [==============================] - 9s 133ms/step - loss: 0.0228 - accuracy: 0.9913\n",
            "Epoch 56/120\n",
            "71/71 [==============================] - 9s 132ms/step - loss: 0.0213 - accuracy: 0.9913\n",
            "Epoch 57/120\n",
            "71/71 [==============================] - 9s 130ms/step - loss: 0.0328 - accuracy: 0.9874\n",
            "Epoch 58/120\n",
            "71/71 [==============================] - 10s 134ms/step - loss: 0.0214 - accuracy: 0.9913\n",
            "Epoch 59/120\n",
            "71/71 [==============================] - 10s 136ms/step - loss: 0.0193 - accuracy: 0.9922\n",
            "Epoch 60/120\n",
            "71/71 [==============================] - 10s 136ms/step - loss: 0.0189 - accuracy: 0.9927\n",
            "Epoch 61/120\n",
            "71/71 [==============================] - 9s 133ms/step - loss: 0.0203 - accuracy: 0.9924\n",
            "Epoch 62/120\n",
            "71/71 [==============================] - 10s 135ms/step - loss: 0.0203 - accuracy: 0.9917\n",
            "Epoch 63/120\n",
            "71/71 [==============================] - 9s 134ms/step - loss: 0.0191 - accuracy: 0.9920\n",
            "Epoch 64/120\n",
            "71/71 [==============================] - 9s 132ms/step - loss: 0.0201 - accuracy: 0.9930\n",
            "Epoch 65/120\n",
            "71/71 [==============================] - 9s 132ms/step - loss: 0.0154 - accuracy: 0.9943\n",
            "Epoch 66/120\n",
            "71/71 [==============================] - 9s 132ms/step - loss: 0.0177 - accuracy: 0.9925\n",
            "Epoch 67/120\n",
            "71/71 [==============================] - 10s 136ms/step - loss: 0.0213 - accuracy: 0.9917\n",
            "Epoch 68/120\n",
            "71/71 [==============================] - 10s 136ms/step - loss: 0.0173 - accuracy: 0.9932\n",
            "Epoch 69/120\n",
            "71/71 [==============================] - 10s 135ms/step - loss: 0.0141 - accuracy: 0.9940\n",
            "Epoch 70/120\n",
            "71/71 [==============================] - 10s 136ms/step - loss: 0.0159 - accuracy: 0.9939\n",
            "Epoch 71/120\n",
            "71/71 [==============================] - 9s 133ms/step - loss: 0.0157 - accuracy: 0.9936\n",
            "Epoch 72/120\n",
            "71/71 [==============================] - 10s 135ms/step - loss: 0.0177 - accuracy: 0.9931\n",
            "Epoch 73/120\n",
            "71/71 [==============================] - 9s 130ms/step - loss: 0.0167 - accuracy: 0.9936\n",
            "Epoch 74/120\n",
            "71/71 [==============================] - 9s 129ms/step - loss: 0.0166 - accuracy: 0.9941\n",
            "Epoch 75/120\n",
            "71/71 [==============================] - 9s 131ms/step - loss: 0.0154 - accuracy: 0.9938\n",
            "Epoch 76/120\n",
            "71/71 [==============================] - 9s 132ms/step - loss: 0.0127 - accuracy: 0.9951\n",
            "Epoch 77/120\n",
            "71/71 [==============================] - 10s 135ms/step - loss: 0.0153 - accuracy: 0.9941\n",
            "Epoch 78/120\n",
            "71/71 [==============================] - 10s 137ms/step - loss: 0.0122 - accuracy: 0.9945\n",
            "Epoch 79/120\n",
            "71/71 [==============================] - 10s 137ms/step - loss: 0.0149 - accuracy: 0.9939\n",
            "Epoch 80/120\n",
            "71/71 [==============================] - 9s 132ms/step - loss: 0.0135 - accuracy: 0.9946\n",
            "Epoch 81/120\n",
            "71/71 [==============================] - 10s 134ms/step - loss: 0.0127 - accuracy: 0.9951\n",
            "Epoch 82/120\n",
            "71/71 [==============================] - 10s 136ms/step - loss: 0.0136 - accuracy: 0.9948\n",
            "Epoch 83/120\n",
            "71/71 [==============================] - 10s 136ms/step - loss: 0.0143 - accuracy: 0.9941\n",
            "Epoch 84/120\n",
            "71/71 [==============================] - 10s 136ms/step - loss: 0.0120 - accuracy: 0.9952\n",
            "Epoch 85/120\n",
            "71/71 [==============================] - 10s 136ms/step - loss: 0.0140 - accuracy: 0.9948\n",
            "Epoch 86/120\n",
            "71/71 [==============================] - 10s 136ms/step - loss: 0.0163 - accuracy: 0.9936\n",
            "Epoch 87/120\n",
            "71/71 [==============================] - 10s 136ms/step - loss: 0.0127 - accuracy: 0.9947\n",
            "Epoch 88/120\n",
            "71/71 [==============================] - 9s 133ms/step - loss: 0.0132 - accuracy: 0.9943\n",
            "Epoch 89/120\n",
            "71/71 [==============================] - 9s 132ms/step - loss: 0.0148 - accuracy: 0.9942\n",
            "Epoch 90/120\n",
            "71/71 [==============================] - 9s 133ms/step - loss: 0.0146 - accuracy: 0.9941\n",
            "Epoch 91/120\n",
            "71/71 [==============================] - 10s 136ms/step - loss: 0.0141 - accuracy: 0.9942\n",
            "Epoch 92/120\n",
            "71/71 [==============================] - 9s 133ms/step - loss: 0.0118 - accuracy: 0.9945\n",
            "Epoch 93/120\n",
            "71/71 [==============================] - 10s 135ms/step - loss: 0.0105 - accuracy: 0.9958\n",
            "Epoch 94/120\n",
            "71/71 [==============================] - 10s 134ms/step - loss: 0.0105 - accuracy: 0.9953\n",
            "Epoch 95/120\n",
            "71/71 [==============================] - 9s 133ms/step - loss: 0.0103 - accuracy: 0.9953\n",
            "Epoch 96/120\n",
            "71/71 [==============================] - 9s 132ms/step - loss: 0.0102 - accuracy: 0.9956\n",
            "Epoch 97/120\n",
            "71/71 [==============================] - 10s 136ms/step - loss: 0.0096 - accuracy: 0.9959\n",
            "Epoch 98/120\n",
            "71/71 [==============================] - 10s 136ms/step - loss: 0.0143 - accuracy: 0.9943\n",
            "Epoch 99/120\n",
            "71/71 [==============================] - 10s 135ms/step - loss: 0.0100 - accuracy: 0.9957\n",
            "Epoch 100/120\n",
            "71/71 [==============================] - 10s 136ms/step - loss: 0.0106 - accuracy: 0.9953\n",
            "Epoch 101/120\n",
            "71/71 [==============================] - 10s 136ms/step - loss: 0.0115 - accuracy: 0.9951\n",
            "Epoch 102/120\n",
            "71/71 [==============================] - 10s 136ms/step - loss: 0.0122 - accuracy: 0.9953\n",
            "Epoch 103/120\n",
            "71/71 [==============================] - 9s 132ms/step - loss: 0.0093 - accuracy: 0.9961\n",
            "Epoch 104/120\n",
            "71/71 [==============================] - 10s 136ms/step - loss: 0.0090 - accuracy: 0.9959\n",
            "Epoch 105/120\n",
            "71/71 [==============================] - 10s 135ms/step - loss: 0.0095 - accuracy: 0.9957\n",
            "Epoch 106/120\n",
            "71/71 [==============================] - 9s 131ms/step - loss: 0.0102 - accuracy: 0.9953\n",
            "Epoch 107/120\n",
            "71/71 [==============================] - 9s 130ms/step - loss: 0.0121 - accuracy: 0.9949\n",
            "Epoch 108/120\n",
            "71/71 [==============================] - 9s 130ms/step - loss: 0.0097 - accuracy: 0.9959\n",
            "Epoch 109/120\n",
            "71/71 [==============================] - 9s 134ms/step - loss: 0.0081 - accuracy: 0.9962\n",
            "Epoch 110/120\n",
            "71/71 [==============================] - 9s 132ms/step - loss: 0.0081 - accuracy: 0.9957\n",
            "Epoch 111/120\n",
            "71/71 [==============================] - 9s 130ms/step - loss: 0.0100 - accuracy: 0.9956\n",
            "Epoch 112/120\n",
            "71/71 [==============================] - 9s 131ms/step - loss: 0.0105 - accuracy: 0.9952\n",
            "Epoch 113/120\n",
            "71/71 [==============================] - 9s 131ms/step - loss: 0.0140 - accuracy: 0.9945\n",
            "Epoch 114/120\n",
            "71/71 [==============================] - 9s 131ms/step - loss: 0.0101 - accuracy: 0.9961\n",
            "Epoch 115/120\n",
            "71/71 [==============================] - 9s 131ms/step - loss: 0.0098 - accuracy: 0.9954\n",
            "Epoch 116/120\n",
            "71/71 [==============================] - 9s 130ms/step - loss: 0.0089 - accuracy: 0.9964\n",
            "Epoch 117/120\n",
            "71/71 [==============================] - 9s 131ms/step - loss: 0.0120 - accuracy: 0.9949\n",
            "Epoch 118/120\n",
            "71/71 [==============================] - 9s 130ms/step - loss: 0.0098 - accuracy: 0.9958\n",
            "Epoch 119/120\n",
            "71/71 [==============================] - 9s 130ms/step - loss: 0.0072 - accuracy: 0.9963\n",
            "Epoch 120/120\n",
            "71/71 [==============================] - 9s 132ms/step - loss: 0.0078 - accuracy: 0.9968\n"
          ]
        }
      ],
      "source": [
        "emotion.fit()"
      ]
    },
    {
      "cell_type": "code",
      "execution_count": 128,
      "metadata": {
        "colab": {
          "base_uri": "https://localhost:8080/",
          "height": 280
        },
        "id": "84VnyiCkxM2O",
        "outputId": "b2a4c044-1920-431b-ed3f-5560e2055bec"
      },
      "outputs": [
        {
          "name": "stderr",
          "output_type": "stream",
          "text": [
            "C:\\Users\\Nevena\\AppData\\Local\\Temp\\ipykernel_8868\\3549910290.py:2: MatplotlibDeprecationWarning: The seaborn styles shipped by Matplotlib are deprecated since 3.6, as they no longer correspond to the styles shipped by seaborn. However, they will remain available as 'seaborn-v0_8-<style>'. Alternatively, directly use the seaborn API instead.\n",
            "  mpl.style.use('seaborn')\n"
          ]
        },
        {
          "data": {
            "image/png": "[encoded data removed]",
            "text/plain": [
              "<Figure size 1500x400 with 1 Axes>"
            ]
          },
          "metadata": {},
          "output_type": "display_data"
        }
      ],
      "source": [
        "import matplotlib.pyplot as plt\n",
        "mpl.style.use('seaborn')\n",
        "figure = plt.figure(figsize=(15, 4))\n",
        "plt.plot(emotion.history_training.history['accuracy'], 'darkorange', label = 'Accuracy')\n",
        "plt.title(\"Accuracywhile training\")\n",
        "plt.show()"
      ]
    },
    {
      "cell_type": "code",
      "execution_count": 129,
      "metadata": {
        "colab": {
          "base_uri": "https://localhost:8080/",
          "height": 280
        },
        "id": "ngkfKyXyfVPN",
        "outputId": "ce085a6a-9529-4260-befe-fa2e4cbbe905"
      },
      "outputs": [
        {
          "data": {
            "image/png": "[encoded data removed]",
            "text/plain": [
              "<Figure size 1500x400 with 1 Axes>"
            ]
          },
          "metadata": {},
          "output_type": "display_data"
        }
      ],
      "source": [
        "figure = plt.figure(figsize=(15, 4))\n",
        "plt.plot(emotion.history_training.history['loss'], 'darkblue', label = 'Loss')\n",
        "plt.title(\"Loss while training\")\n",
        "plt.show()"
      ]
    },
    {
      "cell_type": "code",
      "execution_count": 130,
      "metadata": {
        "colab": {
          "base_uri": "https://localhost:8080/"
        },
        "id": "AmCFN7YIgYsG",
        "outputId": "97883276-5b81-490b-a002-b6b0fbdd75fd"
      },
      "outputs": [
        {
          "name": "stdout",
          "output_type": "stream",
          "text": [
            "8/8 [==============================] - 1s 99ms/step - loss: 0.3880 - accuracy: 0.9285\n"
          ]
        },
        {
          "data": {
            "text/plain": [
              "[0.38797008991241455, 0.9284999966621399]"
            ]
          },
          "execution_count": 130,
          "metadata": {},
          "output_type": "execute_result"
        }
      ],
      "source": [
        "emotion.m.evaluate(emotion.X_test, emotion.Y_test, batch_size = 256)"
      ]
    },
    {
      "cell_type": "code",
      "execution_count": 131,
      "metadata": {
        "id": "0L4SW7XTxfb2"
      },
      "outputs": [
        {
          "name": "stdout",
          "output_type": "stream",
          "text": [
            "63/63 [==============================] - 1s 12ms/step\n"
          ]
        }
      ],
      "source": [
        "y_pred = emotion.m.predict(emotion.X_test)"
      ]
    },
    {
      "cell_type": "code",
      "execution_count": 132,
      "metadata": {
        "id": "z-Bzg9rLy4TT"
      },
      "outputs": [],
      "source": [
        "y_pred = np.argmax(y_pred, axis = 1)"
      ]
    },
    {
      "cell_type": "code",
      "execution_count": 133,
      "metadata": {
        "colab": {
          "base_uri": "https://localhost:8080/"
        },
        "id": "X6nixaqUy89r",
        "outputId": "2602c5dc-7d98-4010-e13c-ad133ab04042"
      },
      "outputs": [
        {
          "data": {
            "text/plain": [
              "array([2, 4, 1, ..., 5, 1, 2], dtype=int64)"
            ]
          },
          "execution_count": 133,
          "metadata": {},
          "output_type": "execute_result"
        }
      ],
      "source": [
        "y_pred"
      ]
    },
    {
      "cell_type": "code",
      "execution_count": 134,
      "metadata": {
        "id": "AUkw2x0ezAKS"
      },
      "outputs": [],
      "source": [
        "y_test = np.argmax(emotion.Y_test, axis = 1)"
      ]
    },
    {
      "cell_type": "code",
      "execution_count": 135,
      "metadata": {
        "colab": {
          "base_uri": "https://localhost:8080/"
        },
        "id": "9LUXLYXxzKQq",
        "outputId": "ede919dc-34f1-4dcd-a287-14ce084cd732"
      },
      "outputs": [
        {
          "data": {
            "text/plain": [
              "array([2, 4, 1, ..., 5, 1, 2], dtype=int64)"
            ]
          },
          "execution_count": 135,
          "metadata": {},
          "output_type": "execute_result"
        }
      ],
      "source": [
        "y_test"
      ]
    },
    {
      "cell_type": "code",
      "execution_count": 136,
      "metadata": {
        "colab": {
          "base_uri": "https://localhost:8080/"
        },
        "id": "qKhpVX5TzRwM",
        "outputId": "fa50701c-3392-44b0-8862-5bf532d41428"
      },
      "outputs": [
        {
          "name": "stdout",
          "output_type": "stream",
          "text": [
            "0.9285\n"
          ]
        }
      ],
      "source": [
        "from sklearn.metrics import accuracy_score as acc\n",
        "print(acc(y_pred, y_test))"
      ]
    },
    {
      "cell_type": "code",
      "execution_count": 137,
      "metadata": {
        "id": "2MHH5qrIh0P-"
      },
      "outputs": [],
      "source": [
        "res = tf.math.confusion_matrix(y_pred,y_test).numpy()"
      ]
    },
    {
      "cell_type": "code",
      "execution_count": 138,
      "metadata": {
        "colab": {
          "base_uri": "https://localhost:8080/",
          "height": 238
        },
        "id": "FbZ0pOpGh57L",
        "outputId": "ed23220f-f9b5-4535-d7d8-20b06acc758f"
      },
      "outputs": [
        {
          "data": {
            "text/html": [
              "<div>\n",
              "<style scoped>\n",
              "    .dataframe tbody tr th:only-of-type {\n",
              "        vertical-align: middle;\n",
              "    }\n",
              "\n",
              "    .dataframe tbody tr th {\n",
              "        vertical-align: top;\n",
              "    }\n",
              "\n",
              "    .dataframe thead th {\n",
              "        text-align: right;\n",
              "    }\n",
              "</style>\n",
              "<table border=\"1\" class=\"dataframe\">\n",
              "  <thead>\n",
              "    <tr style=\"text-align: right;\">\n",
              "      <th></th>\n",
              "      <th>sadness</th>\n",
              "      <th>anger</th>\n",
              "      <th>love</th>\n",
              "      <th>surprise</th>\n",
              "      <th>fear</th>\n",
              "      <th>joy</th>\n",
              "    </tr>\n",
              "  </thead>\n",
              "  <tbody>\n",
              "    <tr>\n",
              "      <th>sadness</th>\n",
              "      <td>255</td>\n",
              "      <td>10</td>\n",
              "      <td>4</td>\n",
              "      <td>2</td>\n",
              "      <td>12</td>\n",
              "      <td>0</td>\n",
              "    </tr>\n",
              "    <tr>\n",
              "      <th>anger</th>\n",
              "      <td>5</td>\n",
              "      <td>194</td>\n",
              "      <td>2</td>\n",
              "      <td>0</td>\n",
              "      <td>6</td>\n",
              "      <td>11</td>\n",
              "    </tr>\n",
              "    <tr>\n",
              "      <th>love</th>\n",
              "      <td>2</td>\n",
              "      <td>1</td>\n",
              "      <td>651</td>\n",
              "      <td>38</td>\n",
              "      <td>0</td>\n",
              "      <td>3</td>\n",
              "    </tr>\n",
              "    <tr>\n",
              "      <th>surprise</th>\n",
              "      <td>1</td>\n",
              "      <td>0</td>\n",
              "      <td>24</td>\n",
              "      <td>120</td>\n",
              "      <td>0</td>\n",
              "      <td>0</td>\n",
              "    </tr>\n",
              "    <tr>\n",
              "      <th>fear</th>\n",
              "      <td>4</td>\n",
              "      <td>8</td>\n",
              "      <td>0</td>\n",
              "      <td>0</td>\n",
              "      <td>577</td>\n",
              "      <td>0</td>\n",
              "    </tr>\n",
              "    <tr>\n",
              "      <th>joy</th>\n",
              "      <td>0</td>\n",
              "      <td>8</td>\n",
              "      <td>2</td>\n",
              "      <td>0</td>\n",
              "      <td>0</td>\n",
              "      <td>60</td>\n",
              "    </tr>\n",
              "  </tbody>\n",
              "</table>\n",
              "</div>"
            ],
            "text/plain": [
              "          sadness  anger  love  surprise  fear  joy\n",
              "sadness       255     10     4         2    12    0\n",
              "anger           5    194     2         0     6   11\n",
              "love            2      1   651        38     0    3\n",
              "surprise        1      0    24       120     0    0\n",
              "fear            4      8     0         0   577    0\n",
              "joy             0      8     2         0     0   60"
            ]
          },
          "execution_count": 138,
          "metadata": {},
          "output_type": "execute_result"
        }
      ],
      "source": [
        "cm = pd.DataFrame(res,\n",
        "                     index = ['sadness', 'anger', 'love', 'surprise', 'fear', 'joy'], \n",
        "                     columns = ['sadness', 'anger', 'love', 'surprise', 'fear', 'joy'])\n",
        "cm"
      ]
    },
    {
      "cell_type": "code",
      "execution_count": 139,
      "metadata": {
        "colab": {
          "base_uri": "https://localhost:8080/",
          "height": 442
        },
        "id": "_q6oYtSmiI7Z",
        "outputId": "f3731b71-5429-42f8-9326-0b6b8589e53b"
      },
      "outputs": [
        {
          "data": {
            "image/png": "[encoded data removed]",
            "text/plain": [
              "<Figure size 700x700 with 2 Axes>"
            ]
          },
          "metadata": {},
          "output_type": "display_data"
        }
      ],
      "source": [
        "import seaborn as sns\n",
        "figure = plt.figure(figsize=(7, 7))\n",
        "sns.heatmap(cm, annot=True, cmap=plt.cm.Blues)\n",
        "plt.ylabel('True label')\n",
        "plt.xlabel('Predicted label')\n",
        "plt.show()"
      ]
    },
    {
      "cell_type": "code",
      "execution_count": 140,
      "metadata": {
        "id": "JjNZhv6clyGi"
      },
      "outputs": [],
      "source": [
        "emotion.m.save(\"emotion.h5\")"
      ]
    }
  ],
  "metadata": {
    "accelerator": "GPU",
    "colab": {
      "background_execution": "on",
      "collapsed_sections": [],
      "machine_shape": "hm",
      "name": "Analysis and sorting of tweeters' feelings.ipynb",
      "provenance": []
    },
    "gpuClass": "standard",
    "kernelspec": {
      "display_name": "Python 3",
      "name": "python3"
    },
    "language_info": {
      "codemirror_mode": {
        "name": "ipython",
        "version": 3
      },
      "file_extension": ".py",
      "mimetype": "text/x-python",
      "name": "python",
      "nbconvert_exporter": "python",
      "pygments_lexer": "ipython3",
      "version": "3.10.5"
    }
  },
  "nbformat": 4,
  "nbformat_minor": 0
}
