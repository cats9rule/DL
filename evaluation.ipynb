{
 "cells": [
  {
   "cell_type": "code",
   "execution_count": 1,
   "metadata": {},
   "outputs": [],
   "source": [
    "import matplotlib.pyplot as plt"
   ]
  },
  {
   "cell_type": "code",
   "execution_count": 2,
   "metadata": {},
   "outputs": [],
   "source": [
    "def _saveFigures(hist):\n",
    "    plt.figure(figsize=(15, 10))\n",
    "    plt.plot(hist.history['accuracy'], c='b', label='train')\n",
    "    plt.plot(hist.history['val_accuracy'], c='r', label='validation')\n",
    "    plt.title(\"Model Accuracy vs Epochs\")\n",
    "    plt.xlabel(\"EPOCHS\")\n",
    "    plt.ylabel(\"ACCURACY\")\n",
    "    plt.legend(loc='lower right')\n",
    "    plt.savefig('evaluation/accuracy.jpg')\n",
    "\n",
    "    plt.figure(figsize=(15, 10))\n",
    "    plt.plot(hist.history['loss'], c='orange', label='train')\n",
    "    plt.plot(hist.history['val_loss'], c='g', label='validation')\n",
    "    plt.title(\"Model Loss vs Epochs\")\n",
    "    plt.xlabel(\"EPOCHS\")\n",
    "    plt.ylabel(\"LOSS\")\n",
    "    plt.legend(loc='upper right')\n",
    "    plt.savefig('evaluation\\loss.jpg')\n",
    "\n",
    "def _saveClassDistribution(dataset):\n",
    "    plt.figure(figsize=(15, 10))\n",
    "    pie = dataset.sentiment.value_counts().plot(kind='pie', autopct='%1.0f%%')\n",
    "    pie.figure.set_size_inches(15, 10)\n",
    "    pie.figure.legend(loc='lower right')\n",
    "    pie.figure.savefig(\"evaluation/classdistribution.jpg\")"
   ]
  }
 ],
 "metadata": {
  "kernelspec": {
   "display_name": "Python 3",
   "language": "python",
   "name": "python3"
  },
  "language_info": {
   "codemirror_mode": {
    "name": "ipython",
    "version": 3
   },
   "file_extension": ".py",
   "mimetype": "text/x-python",
   "name": "python",
   "nbconvert_exporter": "python",
   "pygments_lexer": "ipython3",
   "version": "3.7.0"
  },
  "orig_nbformat": 4
 },
 "nbformat": 4,
 "nbformat_minor": 2
}
